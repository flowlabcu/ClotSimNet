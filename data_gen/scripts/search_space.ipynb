{
 "cells": [
  {
   "cell_type": "markdown",
   "metadata": {},
   "source": [
    "# Parametric Search Space Notebook\n",
    "\n",
    "Description: Workbook to find the optimal search space rectangle for parametric combination of $r_p$ and $a_N$."
   ]
  },
  {
   "cell_type": "code",
   "execution_count": 2,
   "metadata": {},
   "outputs": [],
   "source": [
    "import sys\n",
    "import numpy as np\n",
    "import mesh\n",
    "save_dir = '/home/joshgregory/clotsimnet/cfd/cfd_code/testing/search_space'"
   ]
  },
  {
   "cell_type": "markdown",
   "metadata": {},
   "source": [
    "## Meshing Some Example Cases\n",
    "\n",
    "Note how the number of pores ($a_N$), random seed, radius ($r_N$), etc. can be specified. Note that higher densities and smaller mesh sizes will result in longer mesh times, so be sure to adjust `max_time` (which is in seconds) to allow for this, which will take some experimentation."
   ]
  },
  {
   "cell_type": "code",
   "execution_count": 9,
   "metadata": {},
   "outputs": [
    {
     "name": "stdout",
     "output_type": "stream",
     "text": [
      "Case dir: /home/joshgregory/clotsimnet/cfd/cfd_code/testing/search_space\n",
      "Uncorrected phi: 0.20292019438345774\n"
     ]
    }
   ],
   "source": [
    "from mesh import MeshGenerator\n",
    "\n",
    "num_pores = 447\n",
    "seed = 2\n",
    "radius = 0.017\n",
    "mesh_size=0.01\n",
    "max_time=60\n",
    "case_dir = '/home/joshgregory/clotsimnet/cfd/cfd_code/testing/search_space'\n",
    "sources_dir = '/home/joshgregory/clotsimnet/data_gen/scripts/sources'\n",
    "\n",
    "# Call meshing function\n",
    "mesh = MeshGenerator(\n",
    "    sources_dir=sources_dir,\n",
    "    max_time_sec=float(60)\n",
    ")\n",
    "\n",
    "# Convert a_N and r_p from lists to int and float if needed\n",
    "num_pores = int(num_pores[0]) if isinstance(num_pores, list) else int(num_pores)\n",
    "radius = float(radius[0]) if isinstance(radius, list) else float(radius)\n",
    "\n",
    "success, case_dir, phi = mesh.write_mesh(\n",
    "    radius=radius, \n",
    "    num_pores=num_pores, \n",
    "    seed=seed, \n",
    "    mesh_size=mesh_size, \n",
    "    case_dir=case_dir,\n",
    "    max_time_sec=float(60)\n",
    "    )\n",
    "                    \n",
    "\n",
    "print(f'Uncorrected phi: {phi}')"
   ]
  },
  {
   "cell_type": "code",
   "execution_count": 11,
   "metadata": {},
   "outputs": [
    {
     "name": "stdout",
     "output_type": "stream",
     "text": [
      "Case dir: /home/joshgregory/clotsimnet/cfd/cfd_code/testing/search_space\n",
      "Uncorrected phi: 0.46143714528069857\n"
     ]
    }
   ],
   "source": [
    "num_pores = 510\n",
    "seed = 1\n",
    "radius = 0.024\n",
    "mesh_size=0.01\n",
    "max_time=60\n",
    "save_dir = '/home/joshgregory/clotsimnet/cfd/cfd_code/testing/search_space'\n",
    "\n",
    "# Call meshing function\n",
    "mesh = MeshGenerator(\n",
    "    sources_dir=sources_dir,\n",
    "    max_time_sec=float(60)\n",
    ")\n",
    "\n",
    "# Convert a_N and r_p from lists to int and float if needed\n",
    "num_pores = int(num_pores[0]) if isinstance(num_pores, list) else int(num_pores)\n",
    "radius = float(radius[0]) if isinstance(radius, list) else float(radius)\n",
    "\n",
    "success, case_dir, phi = mesh.write_mesh(\n",
    "    radius=radius, \n",
    "    num_pores=num_pores, \n",
    "    seed=seed, \n",
    "    mesh_size=mesh_size, \n",
    "    case_dir=case_dir,\n",
    "    max_time_sec=float(60)\n",
    "    )\n",
    "                    \n",
    "\n",
    "print(f'Uncorrected phi: {phi}')"
   ]
  },
  {
   "cell_type": "markdown",
   "metadata": {},
   "source": [
    "## Dataset size calculation"
   ]
  },
  {
   "cell_type": "code",
   "execution_count": 5,
   "metadata": {},
   "outputs": [
    {
     "name": "stdout",
     "output_type": "stream",
     "text": [
      "1512\n",
      "[0.017  0.0184 0.0198 0.0212 0.0226]\n"
     ]
    }
   ],
   "source": [
    "import itertools\n",
    "import numpy as np\n",
    "\n",
    "num_pores_list = np.arange(447, 510)\n",
    "radii = np.linspace(start=0.017, stop=0.024, num=6)\n",
    "seeds = np.arange(start=500, stop=504)\n",
    "# Exclude the number 2 because that breaks GMesh for some reason\n",
    "seeds = seeds[seeds != 2]\n",
    "\n",
    "combinations = len(list(itertools.product(num_pores_list, radii, seeds)))\n",
    "\n",
    "print(combinations)\n",
    "\n",
    "print(radii[:5])\n",
    "\n",
    "# print(a_R0)"
   ]
  },
  {
   "cell_type": "markdown",
   "metadata": {},
   "source": [
    "If we want porosities ranging from 0.35 - 0.47, use the following parameters:\n",
    "\n",
    "Minimum porosity:\n",
    "```\n",
    "a_N = 139\n",
    "seed = 1\n",
    "a_R0 = 0.039\n",
    "```\n",
    "Maximum porosity:\n",
    "```\n",
    "a_N = 150\n",
    "seed = 1\n",
    "a_R0 = 0.045\n",
    "phi: 0.477\n",
    "```\n",
    "Could go from 0.30-0.47, which would still be physiologically realistic, would correspond to the following parameters:"
   ]
  },
  {
   "cell_type": "markdown",
   "metadata": {},
   "source": [
    "```\n",
    "a_N = 137\n",
    "seed = 1\n",
    "a_R0 = 0.037\n",
    "mesh_size=0.1\n",
    "max_time=60\n",
    "phi: 0.294\n",
    "```\n",
    "\n"
   ]
  }
 ],
 "metadata": {
  "kernelspec": {
   "display_name": "fenicsprojects",
   "language": "python",
   "name": "python3"
  },
  "language_info": {
   "codemirror_mode": {
    "name": "ipython",
    "version": 3
   },
   "file_extension": ".py",
   "mimetype": "text/x-python",
   "name": "python",
   "nbconvert_exporter": "python",
   "pygments_lexer": "ipython3",
   "version": "3.12.7"
  }
 },
 "nbformat": 4,
 "nbformat_minor": 2
}
