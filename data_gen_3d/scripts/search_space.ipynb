{
 "cells": [
  {
   "cell_type": "markdown",
   "metadata": {},
   "source": [
    "# Parametric Search Space Notebook for 3D\n",
    "\n",
    "Description: Workbook to find the optimal search space rectangle for parametric combination of $r_p$ and $a_N$."
   ]
  },
  {
   "cell_type": "code",
   "execution_count": 4,
   "metadata": {},
   "outputs": [],
   "source": [
    "import sys\n",
    "import itertools\n",
    "sys.path.append('/home/josh/clotsimnet/data_gen_3d/scripts/sources')\n",
    "import sources.randSeqAdd as RSA\n",
    "import numpy as np\n",
    "import mesh\n",
    "save_dir = '/home/joshgregory/clotsimnet/cfd/cfd_code/testing/search_space'"
   ]
  },
  {
   "cell_type": "code",
   "execution_count": 5,
   "metadata": {},
   "outputs": [
    {
     "name": "stdout",
     "output_type": "stream",
     "text": [
      "2\n",
      "[0.017 0.024]\n"
     ]
    }
   ],
   "source": [
    "num_pores_list = np.arange(447, 448)\n",
    "radii = np.linspace(start=0.017, stop=0.024, num=2)\n",
    "seeds = np.arange(start=1, stop=2)\n",
    "# Exclude the number 2 because that breaks GMesh for some reason\n",
    "seeds = seeds[seeds != 2]\n",
    "\n",
    "combinations = len(list(itertools.product(num_pores_list, radii, seeds)))\n",
    "\n",
    "print(combinations)\n",
    "\n",
    "print(radii[:5])\n",
    "\n",
    "# print(a_R0)"
   ]
  },
  {
   "cell_type": "markdown",
   "metadata": {},
   "source": [
    "If we want porosities ranging from 0.35 - 0.47, use the following parameters:\n",
    "\n",
    "Minimum porosity:\n",
    "```\n",
    "a_N = 139\n",
    "seed = 1\n",
    "a_R0 = 0.039\n",
    "```\n",
    "Maximum porosity:\n",
    "```\n",
    "a_N = 150\n",
    "seed = 1\n",
    "a_R0 = 0.045\n",
    "phi: 0.477\n",
    "```\n",
    "Could go from 0.30-0.47, which would still be physiologically realistic, would correspond to the following parameters:"
   ]
  },
  {
   "cell_type": "markdown",
   "metadata": {},
   "source": [
    "```\n",
    "a_N = 137\n",
    "seed = 1\n",
    "a_R0 = 0.037\n",
    "mesh_size=0.1\n",
    "max_time=60\n",
    "phi: 0.294\n",
    "```\n",
    "\n"
   ]
  },
  {
   "cell_type": "code",
   "execution_count": null,
   "metadata": {},
   "outputs": [],
   "source": []
  }
 ],
 "metadata": {
  "kernelspec": {
   "display_name": "base",
   "language": "python",
   "name": "python3"
  },
  "language_info": {
   "codemirror_mode": {
    "name": "ipython",
    "version": 3
   },
   "file_extension": ".py",
   "mimetype": "text/x-python",
   "name": "python",
   "nbconvert_exporter": "python",
   "pygments_lexer": "ipython3",
   "version": "3.12.7"
  }
 },
 "nbformat": 4,
 "nbformat_minor": 2
}
