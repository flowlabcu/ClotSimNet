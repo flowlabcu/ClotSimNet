{
 "cells": [
  {
   "cell_type": "markdown",
   "metadata": {},
   "source": [
    "# Mesh 3D\n",
    "\n",
    "Testing notebook to mesh in 3D"
   ]
  },
  {
   "cell_type": "code",
   "execution_count": 1,
   "metadata": {},
   "outputs": [],
   "source": [
    "import pandas as pd\n",
    "import time\n",
    "import os\n",
    "import shutil\n",
    "import numpy as np\n",
    "from flow_steady import RunFlow\n",
    "import geo_to_bc_dict as bc_dict\n",
    "import subprocess\n",
    "import yaml\n",
    "import sys\n",
    "# import crop_image_dynamic\n",
    "# import process_images\n",
    "from mesh import MeshGenerator\n",
    "import sys\n",
    "sys.path.append('/home/joshgregory/clotsimnet/data_gen_3d/scripts/sources')\n",
    "import sources.randSeqAdd as RSA\n",
    "import sources.gmshUtilities as GMU"
   ]
  },
  {
   "cell_type": "code",
   "execution_count": 3,
   "metadata": {},
   "outputs": [],
   "source": [
    "boxRSA, success = RSA.getBoxRSA3D(\n",
    "                seed=seed, \n",
    "                a_LowerBounds=boxLower, \n",
    "                a_UpperBounds=boxUpper,  \n",
    "                a_N=num_pores,\n",
    "                a_R0=radius,\n",
    "                max_time_sec=max_time_sec\n",
    "            )"
   ]
  },
  {
   "cell_type": "markdown",
   "metadata": {},
   "source": [
    "boxRSA in 3D has the following layout:\n",
    "\n",
    "1st column: xP\n",
    "\n",
    "2nd column: yP\n",
    "\n",
    "3rd column: zP\n",
    "\n",
    "4th column: rP/particle radius"
   ]
  },
  {
   "cell_type": "markdown",
   "metadata": {},
   "source": [
    "Maximum density for 3d spheres from [here](https://en.wikipedia.org/wiki/Random_sequential_adsorption#Saturation_coverages_for_disks,_spheres,_and_hyperspheres):\n",
    "\n",
    "0.3841307\n",
    "\n",
    "0.38278\n",
    "\n",
    "0.384\n",
    "\n",
    "Which corresponds to porosities of\n",
    "\n",
    "0.615869\n",
    "\n",
    "0.61722\n",
    "\n",
    "0.616"
   ]
  },
  {
   "cell_type": "code",
   "execution_count": null,
   "metadata": {},
   "outputs": [],
   "source": [
    "# np.savetxt('fixed-Porosity-test.txt', boxRSA)\n",
    "\n",
    "# GMU.xyzBoxPackingGeoWriterFixed(boxRSA, 'fixed-Porosity-test.txt', 'fixed-Porosity-test.geo', 0.01)\n",
    "\n",
    "# phi = RSA.getPorosity3D(a_LowerBounds=boxLower, a_UpperBounds=boxUpper, a_PosRSA=boxRSA)\n",
    "\n",
    "# print(f'Porosity: {phi}')"
   ]
  },
  {
   "cell_type": "code",
   "execution_count": 4,
   "metadata": {},
   "outputs": [
    {
     "name": "stdout",
     "output_type": "stream",
     "text": [
      "[[8.34043980e-01 7.20324516e-01 1.14374816e-04 1.70000009e-02]\n",
      " [6.04665160e-01 1.46755889e-01 9.23385918e-02 1.70000009e-02]\n",
      " [3.72520417e-01 3.45560730e-01 3.96767467e-01 1.70000009e-02]\n",
      " ...\n",
      " [1.34062064e+00 8.11852932e-01 3.88667476e-03 1.70000009e-02]\n",
      " [7.37093836e-02 9.14859235e-01 5.26784593e-03 1.70000009e-02]\n",
      " [4.83869374e-01 4.33486462e-01 4.04291961e-04 1.70000009e-02]]\n"
     ]
    }
   ],
   "source": [
    "print(boxRSA)"
   ]
  },
  {
   "cell_type": "code",
   "execution_count": null,
   "metadata": {},
   "outputs": [],
   "source": []
  },
  {
   "cell_type": "markdown",
   "metadata": {},
   "source": [
    "# 3D Search Space"
   ]
  },
  {
   "cell_type": "code",
   "execution_count": 5,
   "metadata": {},
   "outputs": [],
   "source": [
    "import pandas as pd\n",
    "import time\n",
    "import os\n",
    "import shutil\n",
    "import numpy as np\n",
    "from flow_steady import RunFlow\n",
    "import geo_to_bc_dict as bc_dict\n",
    "import subprocess\n",
    "import yaml\n",
    "import sys\n",
    "# import crop_image_dynamic\n",
    "# import process_images\n",
    "from mesh import MeshGenerator\n",
    "import sys\n",
    "sys.path.append('/home/joshgregory/clotsimnet/data_gen_3d/scripts/sources')\n",
    "import sources.randSeqAdd as RSA\n",
    "import sources.gmshUtilities as GMU"
   ]
  },
  {
   "cell_type": "code",
   "execution_count": 4,
   "metadata": {},
   "outputs": [
    {
     "name": "stdout",
     "output_type": "stream",
     "text": [
      "Case dir: /home/joshgregory/clotsimnet/data_gen_3d/aN_8000_rp_024_seed_1\n",
      "Sim id: aN_8000_rp_024_seed_1\n",
      "Running RSA code\n",
      "Occupied packing fraction: 0.23162334920390498\n",
      "Unoccupied packing fraction: 0.768376650796095\n",
      "Generating .geo file\n",
      "GMSH UTILITIES BULLSHIT\n",
      "0.0\n",
      "0.0\n",
      "0.0\n",
      "Running geo2h5\n"
     ]
    }
   ],
   "source": [
    "num_pores = 8000\n",
    "radius = 0.024\n",
    "seed = 1\n",
    "max_time_sec = float(10000)\n",
    "mesh_size = 0.025 # Mess with this, keep it below 4 million cells\n",
    "\n",
    "case_dir = f'/home/joshgregory/clotsimnet/data_gen_3d/aN_{num_pores}_rp_024_seed_1'\n",
    "\n",
    "# Create case directory\n",
    "os.makedirs(case_dir, exist_ok=True)\n",
    "\n",
    "print(f'Case dir: {case_dir}')\n",
    "\n",
    "# Extract simulation id from the given output directory\n",
    "sim_id = os.path.basename(case_dir)\n",
    "print(f'Sim id: {sim_id}')\n",
    "\n",
    "boxLower = np.array([0.0, 0.0, 0.0])\n",
    "boxUpper = np.array([2.0, 1.0, 1.0])\n",
    "box = np.array([[0.0, 0.0, 0.0],[2.0, 1.0, 1.0]])\n",
    "\n",
    "print('Running RSA code')\n",
    "boxRSA, success = RSA.getBoxRSA3D(\n",
    "                seed=seed, \n",
    "                a_LowerBounds=boxLower, \n",
    "                a_UpperBounds=boxUpper,  \n",
    "                a_N=num_pores,\n",
    "                a_R0=radius,\n",
    "                max_time_sec=max_time_sec\n",
    "            )\n",
    "\n",
    "phi = RSA.getPorosity3D(a_LowerBounds=boxLower, a_UpperBounds=boxUpper, a_PosRSA=boxRSA)\n",
    "\n",
    "print(f'Occupied packing fraction: {phi}')\n",
    "print(f'Unoccupied packing fraction: {1-phi}')\n",
    "\n",
    "text_path = os.path.join(case_dir, f'{sim_id}.txt')\n",
    "geo_path = os.path.join(case_dir, f'{sim_id}.geo')\n",
    "\n",
    "# Save particle positions\n",
    "np.savetxt(text_path, boxRSA)\n",
    "\n",
    "# Generate .geo file\n",
    "print('Generating .geo file')\n",
    "GMU.xyzBoxPackingGeoWriterFixed(a_Box=box, a_XYZFile=text_path, a_GeoFile=geo_path, a_Sizing=mesh_size)\n",
    "\n",
    "# Open existing .geo file and read the contents\n",
    "with open(geo_path, 'r') as f:\n",
    "    content = f.read()\n",
    "\n",
    "# Write the Mesh version line to the .geo file while it's still open\n",
    "with open(geo_path, 'w') as f:\n",
    "    f.write('Mesh.MshFileVersion = 2.0;\\n' + content)\n",
    "\n",
    "# Change directory and run geo2h5 command for CFD mesh later\n",
    "original_dir = os.getcwd()\n",
    "os.chdir(case_dir)\n",
    "        \n",
    "command = 'geo2h5'\n",
    "# command = '/projects/jogr4852/FLATiron/src/flatiron_tk/scripts/geo2h5' # For Alpine\n",
    "args = ['-m', geo_path, '-d', '3', '-o', \n",
    "        os.path.join(case_dir, f'{sim_id}')]\n",
    "\n",
    "print('Running geo2h5')\n",
    "result = subprocess.run([command] + args, \n",
    "                        capture_output=True, \n",
    "                        text=True)\n",
    "\n",
    "if result.returncode != 0:\n",
    "    print(f\"geo2h5 command failed with error: {result.stderr}\")"
   ]
  },
  {
   "cell_type": "markdown",
   "metadata": {},
   "source": [
    "Packing fraction of 0.1:\n",
    "\n",
    "* num_pores = 6000\n",
    "* radius = 0.02\n",
    "* Takes about 6 minutes\n",
    "\n",
    "Packing fraction of about 0.23:\n",
    "\n",
    "* num_pores = 8000\n",
    "* radius = 0.024\n",
    "* Takes about 20 minutes\n",
    "\n",
    "Anything at higher packing fractions tends to take over 45 minutes and does not converge."
   ]
  },
  {
   "cell_type": "markdown",
   "metadata": {},
   "source": []
  },
  {
   "cell_type": "code",
   "execution_count": 2,
   "metadata": {},
   "outputs": [
    {
     "name": "stdout",
     "output_type": "stream",
     "text": [
      "Case dir: /home/joshgregory/clotsimnet/data_gen_3d/test_geos_fine_2/aN_8000_rp_024_seed_1\n",
      "Sim id: aN_8000_rp_024_seed_1\n",
      "Generating .geo file\n",
      "GMSH UTILITIES BULLSHIT\n",
      "0.0\n",
      "0.0\n",
      "0.0\n",
      "Running geo2h5\n"
     ]
    }
   ],
   "source": [
    "num_pores = 8000\n",
    "radius = 0.024\n",
    "seed = 1\n",
    "max_time_sec = float(10000)\n",
    "mesh_size = 0.025 # Mess with this, keep it below 4 million cells\n",
    "\n",
    "case_dir = f'/home/joshgregory/clotsimnet/data_gen_3d/test_geos_fine_2/aN_8000_rp_024_seed_1'\n",
    "\n",
    "# Create case directory\n",
    "os.makedirs(case_dir, exist_ok=True)\n",
    "\n",
    "print(f'Case dir: {case_dir}')\n",
    "\n",
    "# Extract simulation id from the given output directory\n",
    "sim_id = os.path.basename(case_dir)\n",
    "print(f'Sim id: {sim_id}')\n",
    "\n",
    "boxLower = np.array([0.0, 0.0, 0.0])\n",
    "boxUpper = np.array([2.0, 1.0, 1.0])\n",
    "box = np.array([[0.0, 0.0, 0.0],[2.0, 1.0, 1.0]])\n",
    "\n",
    "# print('Running RSA code')\n",
    "# boxRSA, success = RSA.getBoxRSA3D(\n",
    "#                 seed=seed, \n",
    "#                 a_LowerBounds=boxLower, \n",
    "#                 a_UpperBounds=boxUpper,  \n",
    "#                 a_N=num_pores,\n",
    "#                 a_R0=radius,\n",
    "#                 max_time_sec=max_time_sec\n",
    "#             )\n",
    "\n",
    "# phi = RSA.getPorosity3D(a_LowerBounds=boxLower, a_UpperBounds=boxUpper, a_PosRSA=boxRSA)\n",
    "\n",
    "# print(f'Occupied packing fraction: {phi}')\n",
    "# print(f'Unoccupied packing fraction: {1-phi}')\n",
    "\n",
    "text_path = '/home/joshgregory/clotsimnet/data_gen_3d/test_geos_fine_2/aN_8000_rp_024_seed_1/aN_8000_rp_024_seed_1.txt'\n",
    "geo_path = '/home/joshgregory/clotsimnet/data_gen_3d/test_geos_fine_2/aN_8000_rp_024_seed_1/aN_8000_rp_024_seed_1.geo'\n",
    "\n",
    "# Save particle positions\n",
    "# np.savetxt(text_path, boxRSA)\n",
    "\n",
    "# Generate .geo file\n",
    "print('Generating .geo file')\n",
    "GMU.xyzBoxPackingGeoWriterFixed(a_Box=box, a_XYZFile=text_path, a_GeoFile=geo_path, a_Sizing=mesh_size)\n",
    "\n",
    "# Open existing .geo file and read the contents\n",
    "with open(geo_path, 'r') as f:\n",
    "    content = f.read()\n",
    "\n",
    "# Write the Mesh version line to the .geo file while it's still open\n",
    "with open(geo_path, 'w') as f:\n",
    "    f.write('Mesh.MshFileVersion = 2.0;\\n' + content)\n",
    "\n",
    "# Change directory and run geo2h5 command for CFD mesh later\n",
    "original_dir = os.getcwd()\n",
    "os.chdir(case_dir)\n",
    "        \n",
    "command = 'geo2h5'\n",
    "# command = '/projects/jogr4852/FLATiron/src/flatiron_tk/scripts/geo2h5' # For Alpine\n",
    "args = ['-m', geo_path, '-d', '3', '-o', \n",
    "        os.path.join(case_dir, f'{sim_id}')]\n",
    "\n",
    "print('Running geo2h5')\n",
    "result = subprocess.run([command] + args, \n",
    "                        capture_output=True, \n",
    "                        text=True)\n",
    "\n",
    "if result.returncode != 0:\n",
    "    print(f\"geo2h5 command failed with error: {result.stderr}\")"
   ]
  },
  {
   "cell_type": "code",
   "execution_count": null,
   "metadata": {},
   "outputs": [],
   "source": []
  }
 ],
 "metadata": {
  "kernelspec": {
   "display_name": "fenicsprojects",
   "language": "python",
   "name": "python3"
  },
  "language_info": {
   "codemirror_mode": {
    "name": "ipython",
    "version": 3
   },
   "file_extension": ".py",
   "mimetype": "text/x-python",
   "name": "python",
   "nbconvert_exporter": "python",
   "pygments_lexer": "ipython3",
   "version": "3.12.7"
  }
 },
 "nbformat": 4,
 "nbformat_minor": 2
}
