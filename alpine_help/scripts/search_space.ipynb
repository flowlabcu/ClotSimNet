{
 "cells": [
  {
   "cell_type": "markdown",
   "metadata": {},
   "source": [
    "# Parametric Search Space Notebook\n",
    "\n",
    "Description: Workbook to find the optimal search space rectangle for parametric combination of $r_p$ and $a_N$."
   ]
  },
  {
   "cell_type": "code",
   "execution_count": 2,
   "metadata": {},
   "outputs": [
    {
     "ename": "ModuleNotFoundError",
     "evalue": "No module named 'numba'",
     "output_type": "error",
     "traceback": [
      "\u001b[0;31m---------------------------------------------------------------------------\u001b[0m",
      "\u001b[0;31mModuleNotFoundError\u001b[0m                       Traceback (most recent call last)",
      "Cell \u001b[0;32mIn[2], line 4\u001b[0m\n\u001b[1;32m      2\u001b[0m sources_dir \u001b[38;5;241m=\u001b[39m \u001b[38;5;124m'\u001b[39m\u001b[38;5;124m/home/joshgregory/clotsimnet/cfd/cfd_code/sources\u001b[39m\u001b[38;5;124m'\u001b[39m\n\u001b[1;32m      3\u001b[0m sys\u001b[38;5;241m.\u001b[39mpath\u001b[38;5;241m.\u001b[39mappend(\u001b[38;5;124m'\u001b[39m\u001b[38;5;124m/home/joshgregory/clotsimnet/cfd/cfd_code/sources\u001b[39m\u001b[38;5;124m'\u001b[39m)\n\u001b[0;32m----> 4\u001b[0m \u001b[38;5;28;01mimport\u001b[39;00m\u001b[38;5;250m \u001b[39m\u001b[38;5;21;01msources\u001b[39;00m\u001b[38;5;21;01m.\u001b[39;00m\u001b[38;5;21;01mrandSeqAdd\u001b[39;00m\u001b[38;5;250m \u001b[39m\u001b[38;5;28;01mas\u001b[39;00m\u001b[38;5;250m \u001b[39m\u001b[38;5;21;01mRSA\u001b[39;00m\n\u001b[1;32m      5\u001b[0m \u001b[38;5;28;01mimport\u001b[39;00m\u001b[38;5;250m \u001b[39m\u001b[38;5;21;01mnumpy\u001b[39;00m\u001b[38;5;250m \u001b[39m\u001b[38;5;28;01mas\u001b[39;00m\u001b[38;5;250m \u001b[39m\u001b[38;5;21;01mnp\u001b[39;00m\n\u001b[1;32m      6\u001b[0m \u001b[38;5;28;01mimport\u001b[39;00m\u001b[38;5;250m \u001b[39m\u001b[38;5;21;01mmesh\u001b[39;00m\n",
      "File \u001b[0;32m~/clotsimnet/test_feature_extraction/scripts/sources/randSeqAdd.py:1\u001b[0m\n\u001b[0;32m----> 1\u001b[0m \u001b[38;5;28;01mfrom\u001b[39;00m\u001b[38;5;250m \u001b[39m\u001b[38;5;21;01mnumba\u001b[39;00m\u001b[38;5;250m \u001b[39m\u001b[38;5;28;01mimport\u001b[39;00m jit\n\u001b[1;32m      2\u001b[0m \u001b[38;5;28;01mimport\u001b[39;00m\u001b[38;5;250m \u001b[39m\u001b[38;5;21;01mnumpy\u001b[39;00m\u001b[38;5;250m \u001b[39m\u001b[38;5;28;01mas\u001b[39;00m\u001b[38;5;250m \u001b[39m\u001b[38;5;21;01mnp\u001b[39;00m\n\u001b[1;32m      3\u001b[0m \u001b[38;5;28;01mimport\u001b[39;00m\u001b[38;5;250m \u001b[39m\u001b[38;5;21;01mtime\u001b[39;00m\n",
      "\u001b[0;31mModuleNotFoundError\u001b[0m: No module named 'numba'"
     ]
    }
   ],
   "source": [
    "import sys\n",
    "sources_dir = '/home/joshgregory/clotsimnet/cfd/cfd_code/sources'\n",
    "sys.path.append('/home/joshgregory/clotsimnet/cfd/cfd_code/sources')\n",
    "import sources.randSeqAdd as RSA\n",
    "import numpy as np\n",
    "import mesh\n",
    "save_dir = '/home/joshgregory/clotsimnet/cfd/cfd_code/testing/search_space'"
   ]
  },
  {
   "cell_type": "markdown",
   "metadata": {},
   "source": [
    "Parameter search space:\n",
    "\n",
    "Smallest porosity:\n",
    "\n",
    "a_N = 447\n",
    "seed = 2\n",
    "a_R0 = 0.017\n",
    "\n",
    "Highest porosity:\n",
    "\n",
    "a_N = 510\n",
    "seed = 1\n",
    "a_R0 = 0.024"
   ]
  },
  {
   "cell_type": "code",
   "execution_count": 2,
   "metadata": {},
   "outputs": [
    {
     "name": "stdout",
     "output_type": "stream",
     "text": [
      "Original dir: /home/joshgregory/clotsimnet/test_feature_extraction/scripts\n",
      "Case dir: /home/joshgregory/clotsimnet/cfd/mesh_testing/aN_447_rp_017_seed_2\n",
      "Geo path: /home/joshgregory/clotsimnet/cfd/mesh_testing/aN_447_rp_017_seed_2/aN_447_rp_017_seed_2.geo\n",
      "Sim id: aN_447_rp_017_seed_2\n",
      "phi: 0.20292019438345774\n"
     ]
    }
   ],
   "source": [
    "a_N = 447\n",
    "seed = 2\n",
    "a_R0 = 0.017\n",
    "mesh_size=0.01\n",
    "max_time=60\n",
    "save_dir = '/home/joshgregory/clotsimnet/cfd/cfd_code/testing/search_space'\n",
    "\n",
    "case_dir = f'/home/joshgregory/clotsimnet/cfd/mesh_testing/aN_447_rp_017_seed_2'\n",
    "\n",
    "success, case_dir, phi = mesh.write_mesh_R_N(seed=seed, a_N=a_N, a_R0=a_R0, mesh_size=mesh_size, max_time_sec=60, sources_dir=sources_dir, case_dir=case_dir)\n",
    "\n",
    "print(f'phi: {phi}')"
   ]
  },
  {
   "cell_type": "code",
   "execution_count": 3,
   "metadata": {},
   "outputs": [
    {
     "name": "stdout",
     "output_type": "stream",
     "text": [
      "Original dir: /home/joshgregory/clotsimnet/test_feature_extraction/scripts\n",
      "Case dir: /home/joshgregory/clotsimnet/cfd/mesh_testing/aN_510_rp_024_seed_1\n",
      "Geo path: /home/joshgregory/clotsimnet/cfd/mesh_testing/aN_510_rp_024_seed_1/aN_510_rp_024_seed_1.geo\n",
      "Sim id: aN_510_rp_024_seed_1\n",
      "phi: 0.46143714528069857\n"
     ]
    }
   ],
   "source": [
    "a_N = 510\n",
    "seed = 1\n",
    "a_R0 = 0.024\n",
    "mesh_size=0.01\n",
    "max_time=60\n",
    "save_dir = '/home/joshgregory/clotsimnet/cfd/cfd_code/testing/search_space'\n",
    "\n",
    "case_dir = f'/home/joshgregory/clotsimnet/cfd/mesh_testing/aN_510_rp_024_seed_1'\n",
    "\n",
    "success, case_dir, phi = mesh.write_mesh_R_N(seed=seed, a_N=a_N, a_R0=a_R0, mesh_size=mesh_size, max_time_sec=60, sources_dir=sources_dir, case_dir=case_dir)\n",
    "\n",
    "print(f'phi: {phi}')"
   ]
  },
  {
   "cell_type": "code",
<<<<<<<< HEAD:data_gen/search_space.ipynb
   "execution_count": null,
========
   "execution_count": 7,
>>>>>>>> e572cabeb49120ff9680e4f845006d7b7511e317:alpine_help/scripts/search_space.ipynb
   "metadata": {},
   "outputs": [
    {
     "name": "stdout",
     "output_type": "stream",
     "text": [
<<<<<<<< HEAD:data_gen/search_space.ipynb
      "10395\n",
      "[0.017  0.0175 0.018  0.0185 0.019  0.0195 0.02   0.0205 0.021  0.0215\n",
      " 0.022  0.0225 0.023  0.0235 0.024 ]\n",
      "['01700', '01750', '01800', '01850', '01900', '01950', '02000', '02050', '02100', '02150', '02200', '02250', '02300', '02350', '02400']\n"
========
      "5040\n",
      "[0.017      0.01777778 0.01855556 0.01933333 0.02011111 0.02088889\n",
      " 0.02166667 0.02244444 0.02322222 0.024     ]\n",
      "['01700', '01778', '01856', '01933', '02011', '02089', '02167', '02244', '02322', '02400']\n"
>>>>>>>> e572cabeb49120ff9680e4f845006d7b7511e317:alpine_help/scripts/search_space.ipynb
     ]
    }
   ],
   "source": [
    "import itertools\n",
    "import numpy as np\n",
<<<<<<<< HEAD:data_gen/search_space.ipynb
    "\n",
    "num_pores_list = np.arange(447, 510)\n",
    "radii = np.linspace(start=0.017, stop=0.024, num=14)\n",
    "seeds = np.arange(start=1, stop=14)\n",
========
    "import mesh\n",
    "\n",
    "num_pores_list = np.arange(447, 510)\n",
    "radii = np.linspace(start=0.017, stop=0.024, num=10)\n",
    "seeds = np.arange(start=1, stop=10)\n",
>>>>>>>> e572cabeb49120ff9680e4f845006d7b7511e317:alpine_help/scripts/search_space.ipynb
    "# Exclude the number 2 because that breaks GMesh for some reason\n",
    "seeds = seeds[(seeds != 2) & (seeds != 11)]\n",
    "\n",
    "combinations = len(list(itertools.product(num_pores_list, radii, seeds)))\n",
    "\n",
    "print(combinations)\n",
    "\n",
    "print(radii[:50])\n",
    "\n",
    "formatted_radii = [f'{r:.5f}'.replace('0.', '') for r in radii[:50]]\n",
    "print(formatted_radii)\n",
    "# print(a_R0)"
   ]
  },
  {
   "cell_type": "markdown",
   "metadata": {},
   "source": [
    "If we want porosities ranging from 0.35 - 0.47, use the following parameters:\n",
    "\n",
    "Minimum porosity:\n",
    "```\n",
    "a_N = 139\n",
    "seed = 1\n",
    "a_R0 = 0.039\n",
    "```\n",
    "Maximum porosity:\n",
    "```\n",
    "a_N = 150\n",
    "seed = 1\n",
    "a_R0 = 0.045\n",
    "phi: 0.477\n",
    "```\n",
    "Could go from 0.30-0.47, which would still be physiologically realistic, would correspond to the following parameters:"
   ]
  },
  {
   "cell_type": "markdown",
   "metadata": {},
   "source": [
    "```\n",
    "a_N = 137\n",
    "seed = 1\n",
    "a_R0 = 0.037\n",
    "mesh_size=0.1\n",
    "max_time=60\n",
    "phi: 0.294\n",
    "```\n",
    "\n"
   ]
  },
  {
   "cell_type": "code",
   "execution_count": null,
   "metadata": {},
   "outputs": [],
   "source": []
  }
 ],
 "metadata": {
  "kernelspec": {
   "display_name": "clotsimnet",
   "language": "python",
   "name": "python3"
  },
  "language_info": {
   "codemirror_mode": {
    "name": "ipython",
    "version": 3
   },
   "file_extension": ".py",
   "mimetype": "text/x-python",
   "name": "python",
   "nbconvert_exporter": "python",
   "pygments_lexer": "ipython3",
   "version": "3.11.11"
  }
 },
 "nbformat": 4,
 "nbformat_minor": 2
}
